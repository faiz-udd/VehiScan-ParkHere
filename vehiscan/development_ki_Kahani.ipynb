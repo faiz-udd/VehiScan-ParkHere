{
 "cells": [
  {
   "cell_type": "markdown",
   "metadata": {},
   "source": [
    "# Project Development in Django\n",
    "\n",
    "First Check if you have Installed Python  and Django  Not "
   ]
  },
  {
   "cell_type": "code",
   "execution_count": null,
   "metadata": {},
   "outputs": [],
   "source": [
    "\"\"\" #To check if python is installed run this command in terminal: \n",
    "python3 --version\n",
    "\n",
    "#To install python run this command in terminal:\n",
    "sudo apt-get install python3\n",
    "\n",
    "#To check if Django is installed run this command in terminal:\n",
    "python3 -m django --version\n",
    "\n",
    "#To install Django run this command in terminal:\n",
    "sudo apt-get install python3-django # for linux\n",
    "\n",
    "#To install Django in window run this command in terminal:\n",
    "pip install django\n",
    "\"\"\"\n"
   ]
  },
  {
   "cell_type": "markdown",
   "metadata": {},
   "source": [
    "**Create Django Project**\n",
    "1. Create a project Directory\n",
    "\n",
    "Now you've installed python and Django in you device/Folder in which you want to put your project. Now it's time to create a project directory for your project"
   ]
  },
  {
   "cell_type": "code",
   "execution_count": null,
   "metadata": {},
   "outputs": [],
   "source": [
    "\"\"\"\n",
    "    \n",
    "#run this command in the terminal to create a new project\n",
    "mkdir carParking\n",
    "\n",
    "#run this command to navigate to the project folder\n",
    "cd carParking\n",
    "\n",
    "\"\"\""
   ]
  },
  {
   "cell_type": "markdown",
   "metadata": {},
   "source": [
    "2. create Django Project\n",
    "\n",
    "    * Use the django-admin command to create a new project.\n"
   ]
  },
  {
   "cell_type": "code",
   "execution_count": null,
   "metadata": {},
   "outputs": [],
   "source": [
    "\"\"\" # run this command in your terminal to create a new project\n",
    "\n",
    "django-admin startproject carParkingFrontend\n",
    "\n",
    "\"\"\""
   ]
  },
  {
   "cell_type": "markdown",
   "metadata": {},
   "source": [
    "Once your run the above command in your terminal, you would see a project Directory like this:\n",
    "\n",
    "myproject/\n",
    "\n",
    "├── manage.py\n",
    "\n",
    "├── myproject/\n",
    "\n",
    "│   ├── __init__.py\n",
    "\n",
    "│   ├── settings.py\n",
    "\n",
    "│   ├── urls.py\n",
    "\n",
    "│   ├── asgi.py\n",
    "\n",
    "│   └── wsgi.py"
   ]
  },
  {
   "cell_type": "markdown",
   "metadata": {},
   "source": [
    "**Create Django Application**\n",
    "\n",
    "1. Create an application"
   ]
  },
  {
   "cell_type": "code",
   "execution_count": null,
   "metadata": {},
   "outputs": [],
   "source": [
    "\"\"\"\n",
    "    # 1. run this command to create an application\n",
    "    python manage.py startapp myapp\n",
    "    \n",
    "    # 2. Add the Application to your project in project settings.py file  \n",
    "    \n",
    "    # myproject/settings.py\n",
    "\n",
    "INSTALLED_APPS = [\n",
    "    ...\n",
    "    'carParkingFrontend.apps.CarParkingFrontendConfig',\n",
    "]\n",
    "\"\"\"\n"
   ]
  },
  {
   "cell_type": "markdown",
   "metadata": {},
   "source": [
    "3. Write some views\n",
    "\n",
    "    You have set up your application, Now it's ready to run, But in the website, it won't show anything, so for that you need to create some views which will handle your http response: means get the request and render in the website.\n",
    "\n",
    "    To create views go to views.py file in your app folder and create different views\n",
    "\n",
    "    1. GroupView\n",
    "    2. userView\n",
    "    3. ParkingLots\n",
    "    4. ParkingLotsMonitor\n",
    "\n"
   ]
  },
  {
   "cell_type": "markdown",
   "metadata": {},
   "source": [
    "4. Once your have created your views, now it's time to properly set the urls, so that your views would be easily navigated through. For configuring urls go to url.py which is in the app folder. and set the url paths"
   ]
  },
  {
   "cell_type": "markdown",
   "metadata": {},
   "source": [
    "5. Create Table in Your Database\n",
    "    Once the Urls has been set, and the views have been set, the next thing is to create table in the database"
   ]
  },
  {
   "cell_type": "code",
   "execution_count": null,
   "metadata": {},
   "outputs": [],
   "source": [
    "\"\"\"\n",
    "# To create the tables in the database before we can use them. To do that, run the following command:\n",
    "=> python manage.py migrate\n",
    "\n",
    "\n",
    "Next we need to make migration of the models we've in carParkingFrontend/models.py file. To do that, run the following command:\n",
    "=> python manage.py makemigrations carParkingFrontend\n",
    "\"\"\""
   ]
  }
 ],
 "metadata": {
  "kernelspec": {
   "display_name": "Python 3",
   "language": "python",
   "name": "python3"
  },
  "language_info": {
   "codemirror_mode": {
    "name": "ipython",
    "version": 3
   },
   "file_extension": ".py",
   "mimetype": "text/x-python",
   "name": "python",
   "nbconvert_exporter": "python",
   "pygments_lexer": "ipython3",
   "version": "3.12.2"
  }
 },
 "nbformat": 4,
 "nbformat_minor": 2
}
